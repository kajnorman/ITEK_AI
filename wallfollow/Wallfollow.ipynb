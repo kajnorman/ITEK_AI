{
 "cells": [
  {
   "cell_type": "markdown",
   "id": "54230e90-8c94-4fe5-93ec-cb7717ebdf80",
   "metadata": {},
   "source": [
    "# wall follow  \n",
    "Casen er fra 2.semester:\n",
    "- https://eaaa.instructure.com/courses/17030/files/982828?module_item_id=522476\n",
    "\n",
    "\n",
    "Løsningsmodellen er inspireret af Tensorflow in 10 min..\n",
    "- https://www.youtube.com/watch?v=6_2hzRopPbQ&t=5s\n"
   ]
  },
  {
   "cell_type": "markdown",
   "id": "ceff6938-679c-427d-b05a-9aa08b619734",
   "metadata": {},
   "source": [
    "# Installer libraries"
   ]
  },
  {
   "cell_type": "code",
   "execution_count": null,
   "id": "f71bb547-9ee0-4b86-8749-2a6b06d4540e",
   "metadata": {},
   "outputs": [],
   "source": [
    "!python.exe -m pip install --upgrade pip"
   ]
  },
  {
   "cell_type": "code",
   "execution_count": null,
   "id": "32b6f6c6-8567-4ec7-b803-5d978a1bc051",
   "metadata": {},
   "outputs": [],
   "source": [
    "!pip install pandas"
   ]
  },
  {
   "cell_type": "code",
   "execution_count": null,
   "id": "4cac8fde-d641-4b6b-a608-e13b8fa98a39",
   "metadata": {},
   "outputs": [],
   "source": [
    "!pip install scikit-learn   "
   ]
  },
  {
   "cell_type": "code",
   "execution_count": null,
   "id": "2458c88f-6713-4201-b7ff-ea12fd3b55bf",
   "metadata": {},
   "outputs": [],
   "source": [
    "!pip install tensorflow"
   ]
  },
  {
   "cell_type": "code",
   "execution_count": null,
   "id": "d07b0cab-9133-440b-8bab-9a8092c0a1b4",
   "metadata": {},
   "outputs": [],
   "source": [
    "!pip install numpy"
   ]
  },
  {
   "cell_type": "code",
   "execution_count": null,
   "id": "feeef287-accf-4473-bc91-80c658bb0352",
   "metadata": {},
   "outputs": [],
   "source": [
    "!pip install matplotlib"
   ]
  },
  {
   "cell_type": "markdown",
   "id": "114e31ab-39b7-4e62-a0ce-1948f935d43a",
   "metadata": {},
   "source": [
    "# Brug Panda til at læse (og vise) data fra csv-regnearket som indeholder træningsdata"
   ]
  },
  {
   "cell_type": "code",
   "execution_count": null,
   "id": "119f03f2-d7e0-4e92-a283-27ff9e949e02",
   "metadata": {},
   "outputs": [],
   "source": [
    "import pandas as pd\n",
    "#from sklearn.model_selection import train_test_split\n",
    "\n",
    "df = pd.read_csv('wallfollow.csv')  # kan også læse excel filer med pd.read_excel()  ikke testet\r\n",
    "\r\n",
    "X = pd.get_dummies(df.drop(['Venstre_motor', 'Hojre_motor'], axis=1))  #afstandsdata\r\n",
    "Y = pd.get_dummies(df.drop(['afstand'], axis=1))  #df['afstand']    # venster og højre motor -data\r\n",
    "\r\n",
    "print(X)    #input til AI\r\n",
    "print(Y)    # output fra AI"
   ]
  },
  {
   "cell_type": "markdown",
   "id": "19bdf8f6-dedd-454a-9b40-4b460c69a5b8",
   "metadata": {},
   "source": [
    "# Byg efter bedste fornemmelse et neuralt netværk"
   ]
  },
  {
   "cell_type": "code",
   "execution_count": null,
   "id": "83848a9b-d8c2-494a-815f-43ef64819244",
   "metadata": {},
   "outputs": [],
   "source": [
    "from tensorflow.keras.models import Sequential, load_model\n",
    "from tensorflow.keras.layers import Dense\n",
    "\n",
    "model = Sequential()\n",
    "model.add(Dense(units=30, activation='tanh', input_dim=1))                                                              # 1 input til 30 neuroner i et skjult lag\n",
    "model.add(Dense(units=2, activation='linear'))  #sigmoid kan ikke bruges da positiv og negativ signal ønskes            # (2) output\n",
    "\n",
    "model.compile(loss=\"mean_squared_error\", optimizer='Adam')#, metrics='accuracy')  #sgd  loss='binary_crossentropy'/\"mean_squared_error\"\n",
    "\n",
    "\n"
   ]
  },
  {
   "cell_type": "markdown",
   "id": "f790fb7a-3215-4fd6-91af-ad70c1b0404d",
   "metadata": {},
   "source": [
    "# Konverter træningsdata til et array af float\n"
   ]
  },
  {
   "cell_type": "code",
   "execution_count": null,
   "id": "a53196e5-a50b-4a8a-850e-6b63657dbf52",
   "metadata": {},
   "outputs": [],
   "source": [
    "import numpy as np\n",
    "\n",
    "X_train = np.asarray(X).astype('float32')\n",
    "y_train = np.asarray(Y).astype('float32')\n"
   ]
  },
  {
   "cell_type": "markdown",
   "id": "49988f55-60e1-49ec-846e-a15b5d1b2313",
   "metadata": {},
   "source": [
    "# Og træn med disse data"
   ]
  },
  {
   "cell_type": "code",
   "execution_count": null,
   "id": "48a846f0-ff93-4631-8414-7a9e8b702857",
   "metadata": {},
   "outputs": [],
   "source": [
    "model.fit(X_train, y_train, epochs=200, batch_size=20)"
   ]
  },
  {
   "cell_type": "markdown",
   "id": "7ffda67e-28e2-4bcd-be3b-e0a4e01f43d7",
   "metadata": {},
   "source": [
    "# plot resultatet"
   ]
  },
  {
   "cell_type": "code",
   "execution_count": null,
   "id": "d2545c22-6fbe-40d9-93a4-7f03ebe44232",
   "metadata": {},
   "outputs": [],
   "source": [
    "import matplotlib.pyplot as plt\n",
    "\n",
    "test_afstand=[0,1,2,3,4,5,6,7,8,9,10,11,12,15,20,50,100,200,250]   # x-aksen  (lineær op til 20)\n",
    "\n",
    "b = model.predict(test_afstand)    #b  er de af netværket estimerede værdier for højre og venstre -motor (2-dimensionelt)\n",
    "plt.plot(test_afstand,b)           # her plottes b  (orange og blåtyrkis)\n",
    "plt.plot(Y)                        # Y er træningsdata for output (rød og grøn)\n",
    "plt.ylabel('Motor-hastighed (positiv for fremad)')\n",
    "plt.axis((0, 30, -1.5, 1.5))\n",
    "plt.show()"
   ]
  },
  {
   "cell_type": "markdown",
   "id": "4e75ab54-955c-4172-bdaf-fc4f53b30c8a",
   "metadata": {},
   "source": [
    "# mere træning, og plot"
   ]
  },
  {
   "cell_type": "code",
   "execution_count": null,
   "id": "3f281559-b1f7-498a-ab5a-7cbf445f77ba",
   "metadata": {},
   "outputs": [],
   "source": [
    "model.fit(X_train, y_train, epochs=7000, batch_size=30,verbose=0)\n",
    "\n",
    "b = model.predict(test_afstand)    #b  er de af netværket estimerede værdier for højre og venstre -motor (2-dimensionelt)\n",
    "plt.plot(test_afstand,b)           # her plottes b  (orange og blåtyrkis)\n",
    "plt.plot(Y)                        # Y er træningsdata for output (rød og grøn)\n",
    "plt.ylabel('Motor-hastighed (positiv for fremad)')\n",
    "plt.axis((0, 30, -1.5, 1.5))\n",
    "plt.show()"
   ]
  },
  {
   "cell_type": "code",
   "execution_count": null,
   "id": "6882155f-6474-44a8-9bda-5a2228a48a3d",
   "metadata": {},
   "outputs": [],
   "source": [
    "a= model.predict([17.8])"
   ]
  },
  {
   "cell_type": "code",
   "execution_count": null,
   "id": "2701e8ce-6d77-4207-8200-a8eb14b4aa73",
   "metadata": {},
   "outputs": [],
   "source": [
    "print(a)"
   ]
  }
 ],
 "metadata": {
  "kernelspec": {
   "display_name": "Python 3 (ipykernel)",
   "language": "python",
   "name": "python3"
  },
  "language_info": {
   "codemirror_mode": {
    "name": "ipython",
    "version": 3
   },
   "file_extension": ".py",
   "mimetype": "text/x-python",
   "name": "python",
   "nbconvert_exporter": "python",
   "pygments_lexer": "ipython3",
   "version": "3.11.3"
  }
 },
 "nbformat": 4,
 "nbformat_minor": 5
}
