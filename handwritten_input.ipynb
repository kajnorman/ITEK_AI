{
 "cells": [
  {
   "cell_type": "markdown",
   "id": "f9e0afdc",
   "metadata": {},
   "source": [
    "eksempel på genkendelse af håndskrift...\n",
    "\n",
    "inspireret af :\n",
    "\n",
    "https://medium.com/mlearning-ai/mnist-dataset-of-handwritten-digits-f8cf28edafe\n"
   ]
  },
  {
   "cell_type": "markdown",
   "id": "1f5ca73c",
   "metadata": {},
   "source": [
    "OM Jupyter notebook..\n",
    "\n",
    "pip install jupyter\n",
    "\n",
    "derefter fra cmd-consol i pycharm -->jupyter notebook\n",
    "\n",
    "skift af default browser se : https://www.youtube.com/watch?v=6Ed9KD_fR6U\n",
    "\n",
    "\n",
    "\n",
    "\n",
    "Der skal installeres torch og matplotlib"
   ]
  },
  {
   "cell_type": "code",
   "execution_count": null,
   "id": "a692d554",
   "metadata": {},
   "outputs": [],
   "source": [
    "!python.exe -m pip install --upgrade pip"
   ]
  },
  {
   "cell_type": "code",
   "execution_count": null,
   "id": "e9fbacc2",
   "metadata": {},
   "outputs": [],
   "source": [
    "!pip install torch"
   ]
  },
  {
   "cell_type": "code",
   "execution_count": null,
   "id": "cfa63c06",
   "metadata": {},
   "outputs": [],
   "source": [
    "!pip install torchvision"
   ]
  },
  {
   "cell_type": "code",
   "execution_count": null,
   "id": "67cdc79f",
   "metadata": {},
   "outputs": [],
   "source": [
    "!pip install matplotlib"
   ]
  },
  {
   "cell_type": "markdown",
   "id": "081095c8",
   "metadata": {},
   "source": [
    "importere data  (håndskrevne tal)"
   ]
  },
  {
   "cell_type": "code",
   "execution_count": null,
   "id": "e199f01a",
   "metadata": {},
   "outputs": [],
   "source": [
    "import torch\n",
    "from torchvision import datasets, transforms\n",
    "import matplotlib.pyplot as plt\n",
    "\n",
    "\n",
    "# Transform PIL image into a tensor. The values are in the range [0, 1]\n",
    "t = transforms.ToTensor()\n",
    "\n",
    "# Load datasets for training and testing.\n",
    "mnist_training = datasets.MNIST(root='/tmp/mnist', train=True, download=True, transform=t)\n",
    "mnist_val = datasets.MNIST(root='/tmp/mnist', train=False, download=True, transform =t)\n",
    "\n",
    "\n"
   ]
  },
  {
   "cell_type": "code",
   "execution_count": null,
   "id": "815e0c82",
   "metadata": {},
   "outputs": [],
   "source": [
    "# Plot some digits.\n",
    "\n",
    "cols = 8\n",
    "rows = 2\n",
    "\n",
    "fig, axes = plt.subplots(nrows=rows, ncols=cols, figsize=(1.5*cols, 2*rows))\n",
    "for i, ax in enumerate(axes.flatten()):\n",
    "    image, label = mnist_training[i]          # returns PIL image with its labels\n",
    "    ax.set_title(f\"Label: {label}\")\n",
    "    ax.imshow(image.squeeze(0), cmap='gray')  # we get a 1x28x28 tensor -> remove first dimension\n",
    "plt.show()"
   ]
  },
  {
   "cell_type": "code",
   "execution_count": null,
   "id": "07c0f0e7",
   "metadata": {},
   "outputs": [],
   "source": [
    "mnist_val\n"
   ]
  },
  {
   "cell_type": "code",
   "execution_count": null,
   "id": "f1a3f2c1",
   "metadata": {},
   "outputs": [],
   "source": [
    "mnist_training[0]"
   ]
  },
  {
   "cell_type": "markdown",
   "id": "ca2eb940",
   "metadata": {},
   "source": [
    "der laves et neuralt netværk."
   ]
  },
  {
   "cell_type": "code",
   "execution_count": null,
   "id": "07280b52",
   "metadata": {},
   "outputs": [],
   "source": [
    "model = torch.nn.Sequential(\n",
    "    torch.nn.Linear(28*28, 256),\n",
    "    torch.nn.ReLU(),\n",
    "    torch.nn.Linear(256, 10)\n",
    ")"
   ]
  },
  {
   "cell_type": "code",
   "execution_count": null,
   "id": "0a698eca",
   "metadata": {},
   "outputs": [],
   "source": [
    "print(model)"
   ]
  },
  {
   "cell_type": "code",
   "execution_count": null,
   "id": "af939fdc",
   "metadata": {},
   "outputs": [],
   "source": [
    "\n",
    "# Use Adam as optimizer.\n",
    "opt = torch.optim.Adam(params=model.parameters(), lr=0.01)\n"
   ]
  },
  {
   "cell_type": "code",
   "execution_count": null,
   "id": "3469ee95",
   "metadata": {},
   "outputs": [],
   "source": [
    "print(opt)"
   ]
  },
  {
   "cell_type": "code",
   "execution_count": null,
   "id": "9c14c424",
   "metadata": {},
   "outputs": [],
   "source": [
    "# Use CrossEntropyLoss for as loss function.\n",
    "loss_fn = torch.nn.CrossEntropyLoss()\n"
   ]
  },
  {
   "cell_type": "code",
   "execution_count": null,
   "id": "c028e79a",
   "metadata": {},
   "outputs": [],
   "source": [
    "# We train the model with batches of 500 examples.\n",
    "batch_size = 4000  #500\n",
    "train_loader = torch.utils.data.DataLoader(mnist_training, batch_size=batch_size, shuffle=True)\n"
   ]
  },
  {
   "cell_type": "code",
   "execution_count": null,
   "id": "40953ada",
   "metadata": {
    "scrolled": true
   },
   "outputs": [],
   "source": [
    "type(train_loader)\n"
   ]
  },
  {
   "cell_type": "code",
   "execution_count": null,
   "id": "d6b46a34",
   "metadata": {},
   "outputs": [],
   "source": [
    "losses = []"
   ]
  },
  {
   "cell_type": "code",
   "execution_count": null,
   "id": "d6b78307",
   "metadata": {
    "scrolled": true
   },
   "outputs": [],
   "source": [
    "for epoch in range(50):  #(10):\n",
    "    for imgs, labels in train_loader:\n",
    "        n = len(imgs)\n",
    "        # Reshape data from [500, 1, 28, 28] to [500, 784] and use the model to make predictions.\n",
    "        predictions = model(imgs.view(n, -1))\n",
    "        # Compute the loss.\n",
    "        loss = loss_fn(predictions, labels)\n",
    "        opt.zero_grad()\n",
    "        loss.backward()\n",
    "        opt.step()\n",
    "        losses.append(float(loss))\n",
    "    print(f\"Epoch: {epoch}, Loss: {float(loss)}\")\n"
   ]
  },
  {
   "cell_type": "code",
   "execution_count": null,
   "id": "f33b4f66",
   "metadata": {
    "scrolled": true
   },
   "outputs": [],
   "source": [
    "plt.plot(losses)"
   ]
  },
  {
   "cell_type": "code",
   "execution_count": null,
   "id": "9f27f3c8",
   "metadata": {},
   "outputs": [],
   "source": [
    "# Determine the accuracy of our clasifier\n",
    "# =======================================\n",
    "\n",
    "# Load all 10000 images from the validation set.\n",
    "n = 10000\n",
    "loader = torch.utils.data.DataLoader(mnist_val, batch_size=n)\n",
    "#images, labels = iter(loader).next()\n",
    "images, labels = next(iter(loader))\n",
    "\n",
    "# The tensor images has the shape [10000, 1, 28, 28]. Reshape the tensor to\n",
    "# [10000, 784] as our model expected a flat vector.\n",
    "data = images.view(n, -1)\n",
    "\n",
    "# Use our model to compute the class scores for all images. The result is a\n",
    "# tensor with shape [10000, 10]. Row i stores the scores for image images[i].\n",
    "# Column j stores the score for class j.\n",
    "predictions = model(data)\n",
    "\n",
    "# For each row determine the column index with the maximum score. This is the\n",
    "# predicted class.\n",
    "predicted_classes = torch.argmax(predictions, dim=1)\n",
    "\n",
    "# Accuracy = number of correctly classified images divided by the total number\n",
    "# of classified images.\n",
    "sum(predicted_classes.numpy() == labels.numpy()) / n"
   ]
  },
  {
   "cell_type": "code",
   "execution_count": null,
   "id": "2453e004",
   "metadata": {},
   "outputs": [],
   "source": [
    "predicted_classes"
   ]
  },
  {
   "cell_type": "code",
   "execution_count": null,
   "id": "bb004412",
   "metadata": {},
   "outputs": [],
   "source": [
    "cols = 8\n",
    "rows = 2\n",
    "\n",
    "fig, axes = plt.subplots(nrows=rows, ncols=cols, figsize=(1.5*cols, 2*rows))\n",
    "for i, ax in enumerate(axes.flatten()):\n",
    "    image, label = images[i],labels[i]          # returns PIL image with its labels\n",
    "    ax.set_title(f\"Label: {label}\")\n",
    "    ax.imshow(image.squeeze(0), cmap='gray')  # we get a 1x28x28 tensor -> remove first dimension\n",
    "plt.show()"
   ]
  },
  {
   "cell_type": "code",
   "execution_count": null,
   "id": "3628840a",
   "metadata": {},
   "outputs": [],
   "source": [
    "labels"
   ]
  },
  {
   "cell_type": "code",
   "execution_count": null,
   "id": "bfca9d78",
   "metadata": {},
   "outputs": [],
   "source": [
    "errors = []"
   ]
  },
  {
   "cell_type": "code",
   "execution_count": null,
   "id": "2370a0a7",
   "metadata": {},
   "outputs": [],
   "source": [
    "print(\" i, prediction, label\")\n",
    "for n in range(10000):\n",
    "    if (predicted_classes[n] != labels[n]):\n",
    "        print(n,predicted_classes[n],labels[n])\n",
    "        errors.append(n)\n",
    "    \n",
    "print(\"length:\",errors.__len__())"
   ]
  },
  {
   "cell_type": "code",
   "execution_count": null,
   "id": "517e0b4a",
   "metadata": {},
   "outputs": [],
   "source": [
    "cols = 8\n",
    "rows = 2\n",
    "\n",
    "fig, axes = plt.subplots(nrows=rows, ncols=cols, figsize=(1.5*cols, 2*rows))\n",
    "for i, ax in enumerate(axes.flatten()):\n",
    "    image, label = images[errors[i]],labels[predicted_classes[i]]          # returns PIL image with its labels\n",
    "    ax.set_title(f\"Label: {label}\")\n",
    "    ax.imshow(image.squeeze(0), cmap='gray')  # we get a 1x28x28 tensor -> remove first dimension\n",
    "plt.show()"
   ]
  },
  {
   "cell_type": "code",
   "execution_count": null,
   "id": "ff103439",
   "metadata": {},
   "outputs": [],
   "source": [
    "cols = 8\n",
    "rows = 3\n",
    "\n",
    "fig, axes = plt.subplots(nrows=rows, ncols=cols, figsize=(1.5*cols, 2*rows))\n",
    "for i, ax in enumerate(axes.flatten()):\n",
    "    image, label = images[errors[i]],labels[predicted_classes[errors[i]]]          # returns PIL image with its labels\n",
    "    ax.set_title(f\"id: {errors[i]}  i: {i} \\n  p: {predicted_classes[errors[i]]} l:{labels[errors[i]]}\")\n",
    "    ax.imshow(image.squeeze(0), cmap='gray')  # we get a 1x28x28 tensor -> remove first dimension\n",
    "plt.show()"
   ]
  },
  {
   "cell_type": "code",
   "execution_count": null,
   "id": "74efe1e8",
   "metadata": {},
   "outputs": [],
   "source": []
  }
 ],
 "metadata": {
  "kernelspec": {
   "display_name": "Python 3 (ipykernel)",
   "language": "python",
   "name": "python3"
  },
  "language_info": {
   "codemirror_mode": {
    "name": "ipython",
    "version": 3
   },
   "file_extension": ".py",
   "mimetype": "text/x-python",
   "name": "python",
   "nbconvert_exporter": "python",
   "pygments_lexer": "ipython3",
   "version": "3.11.3"
  }
 },
 "nbformat": 4,
 "nbformat_minor": 5
}
