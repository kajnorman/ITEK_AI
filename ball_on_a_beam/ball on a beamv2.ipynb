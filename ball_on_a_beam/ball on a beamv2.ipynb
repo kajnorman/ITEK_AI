{
 "cells": [
  {
   "cell_type": "markdown",
   "id": "7b4adefb-e929-4882-9b45-c8504aa82e47",
   "metadata": {},
   "source": [
    "formålet er at kunne lave et NN som kontrollerer en BOAB."
   ]
  },
  {
   "cell_type": "code",
   "execution_count": null,
   "id": "3e7c5cbd-ca88-47dc-901b-ac80c2ff2d7e",
   "metadata": {},
   "outputs": [],
   "source": [
    "!python.exe -m pip install --upgrade pip"
   ]
  },
  {
   "cell_type": "code",
   "execution_count": null,
   "id": "bc5c30f0-37e9-4a58-9c64-ec749fc7c494",
   "metadata": {},
   "outputs": [],
   "source": [
    "!pip install pandas\n"
   ]
  },
  {
   "cell_type": "code",
   "execution_count": null,
   "id": "4bdfab14-e824-4cae-9f9b-d0d9a9078646",
   "metadata": {},
   "outputs": [],
   "source": [
    "!pip install scikit-learn   \n"
   ]
  },
  {
   "cell_type": "code",
   "execution_count": null,
   "id": "aca47eeb-0278-4d13-9a9c-0b32b2861eff",
   "metadata": {},
   "outputs": [],
   "source": [
    "!pip install tensorflow\n"
   ]
  },
  {
   "cell_type": "code",
   "execution_count": null,
   "id": "085352ac-6a63-43de-af07-a39d09b844dd",
   "metadata": {},
   "outputs": [],
   "source": [
    "!pip install numpy"
   ]
  },
  {
   "cell_type": "code",
   "execution_count": null,
   "id": "a0deec43-950a-4eb7-8639-9b8cda867311",
   "metadata": {},
   "outputs": [],
   "source": [
    "!pip install matplotlib"
   ]
  },
  {
   "cell_type": "code",
   "execution_count": null,
   "id": "1f41c258-f6d0-4e0d-89f0-5177f3d68ccd",
   "metadata": {},
   "outputs": [],
   "source": [
    "import pandas as pd\n",
    "#from sklearn.model_selection import train_test_split\n",
    "\n",
    "\n",
    "\n",
    "df = pd.read_csv('training01.csv')  # kan også læse excel filer med pd.read_excel()  ikke testet\n",
    "\n",
    "X = pd.get_dummies(df.drop(['vinkel'], axis=1))  #afstandsdata,hastighed\n",
    "Y = pd.get_dummies(df.drop(['afstand','speed'], axis=1))  # vinkel-data\n",
    "\n",
    "print(X)    #input til AI\n",
    "print(Y)    # output fra AI"
   ]
  },
  {
   "cell_type": "code",
   "execution_count": null,
   "id": "dd26ed18-65d3-4e66-8ab9-3b07c0734694",
   "metadata": {},
   "outputs": [],
   "source": [
    "from tensorflow.keras.models import Sequential, load_model\n",
    "from tensorflow.keras.layers import Dense\n",
    "\n",
    "model = Sequential()\n",
    "model.add(Dense(units=30, activation='tanh', input_dim=2))                                                              # 2 input til 30 neuroner i et skjult lag\n",
    "model.add(Dense(units=30, activation='tanh'))                                                              # 1 input til 30 neuroner i et skjult lag\n",
    "model.add(Dense(units=1, activation='linear'))  #sigmoid kan ikke bruges da positiv og negativ signal ønskes            # (1) output\n",
    "\n",
    "model.compile(loss=\"mean_squared_error\", optimizer='Adam')#, metrics='accuracy')  #sgd  loss='binary_crossentropy'/\"mean_squared_error\"\n",
    "\n",
    "\n",
    "\n",
    "\n"
   ]
  },
  {
   "cell_type": "code",
   "execution_count": null,
   "id": "c47db973-19f5-4160-b57c-442e277efc67",
   "metadata": {},
   "outputs": [],
   "source": [
    "import numpy as np\n",
    "\n",
    "X_train = np.asarray(X).astype('float32')\n",
    "y_train = np.asarray(Y).astype('float32')\n"
   ]
  },
  {
   "cell_type": "code",
   "execution_count": null,
   "id": "faf377d2-6fa7-4ac3-a5ab-996b4b84ccc5",
   "metadata": {},
   "outputs": [],
   "source": [
    "\n",
    "# epochs - the number of walk through the entire dataset\n",
    "#batch the number of samples processed before the model is updated.\n",
    "history=model.fit(X_train, y_train, epochs=1200, batch_size=600)  # validation_split = 0.1, ??  "
   ]
  },
  {
   "cell_type": "code",
   "execution_count": null,
   "id": "a9b16392-6c1b-4a76-9373-ca08c7bba746",
   "metadata": {},
   "outputs": [],
   "source": [
    "test_data=[(100,0),(100,5),(100,-5),(600,0),(600,5),(600,-5),(900,0),(900,5),(900,-5),(700,0),(700,10),(700,-10)]   # (afst,speed),(afstand,speed)\n",
    "\n",
    "test_data = np.asarray(test_data).astype('float32')\n",
    "\n",
    "b = model.predict(test_data)    #b  er vinklen  anbefalet af NN\n",
    "#b = model.predict(500)    #b  er vinklen  anbefalet af NN\n",
    "print (b)"
   ]
  },
  {
   "cell_type": "code",
   "execution_count": null,
   "id": "04454978-5ddf-460d-8db2-563482b92286",
   "metadata": {},
   "outputs": [],
   "source": [
    "model.save('file.keras') "
   ]
  },
  {
   "cell_type": "code",
   "execution_count": null,
   "id": "69afb588-e345-4a46-9d52-b1025f047dac",
   "metadata": {},
   "outputs": [],
   "source": [
    "model.predict(np.array([[100,0]]))  # eksempel på input til model.predict   \n",
    "\n"
   ]
  }
 ],
 "metadata": {
  "kernelspec": {
   "display_name": ".venv",
   "language": "python",
   "name": "python3"
  },
  "language_info": {
   "codemirror_mode": {
    "name": "ipython",
    "version": 3
   },
   "file_extension": ".py",
   "mimetype": "text/x-python",
   "name": "python",
   "nbconvert_exporter": "python",
   "pygments_lexer": "ipython3",
   "version": "3.13.2"
  }
 },
 "nbformat": 4,
 "nbformat_minor": 5
}
