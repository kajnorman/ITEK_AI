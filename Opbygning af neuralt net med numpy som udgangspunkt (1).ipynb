{
 "cells": [
  {
   "cell_type": "markdown",
   "id": "96163bb9",
   "metadata": {},
   "source": [
    "# Opbygning af neuralt net med numpy som udgangspunkt \n",
    "\n",
    " \n",
    "\n",
    "Casen er et 2-dimensionelt indgangsmønster.. \n",
    "\n",
    " \n",
    "\n",
    "Illustrerer sigmoid, fejlberegning ,træning o.a. grundbegreber \n",
    "\n",
    " mkilde : https://realpython.com/python-ai-neural-network/\n",
    " \n",
    "\n",
    "for nuværende indeholder notebooken kun slut resultatet.. Der er meget at gøre her!"
   ]
  },
  {
   "cell_type": "markdown",
   "id": "e5b07660-52e2-4876-9db9-df2adbe477ee",
   "metadata": {},
   "source": [
    "# Første eksperiment er en neuron med 3 input og et output\n",
    "\n",
    "Vi gør brug af noget såkaldt matrix-regning som vi gratis får med hvi vi installerer numpy.\n",
    "\n",
    "Næste linje (starter med et udråbstegn ! ) det indikerer at linjen bliver udført i konsollen"
   ]
  },
  {
   "cell_type": "code",
   "execution_count": 1,
   "id": "69c026b7-b347-486f-85be-996a7005b502",
   "metadata": {},
   "outputs": [
    {
     "name": "stdout",
     "output_type": "stream",
     "text": [
      "Requirement already satisfied: pip in c:\\users\\knn\\pythonproject\\jupytertest0\\venv\\lib\\site-packages (22.3.1)\n",
      "Collecting pip\n",
      "  Using cached pip-23.2.1-py3-none-any.whl (2.1 MB)\n"
     ]
    },
    {
     "name": "stderr",
     "output_type": "stream",
     "text": [
      "ERROR: To modify pip, please run the following command:\n",
      "C:\\Users\\knn\\pythonProject\\jupytertest0\\venv\\Scripts\\python.exe -m pip install --upgrade pip\n",
      "\n",
      "[notice] A new release of pip available: 22.3.1 -> 23.2.1\n",
      "[notice] To update, run: python.exe -m pip install --upgrade pip\n"
     ]
    }
   ],
   "source": [
    "!pip install --upgrade pip    "
   ]
  },
  {
   "cell_type": "markdown",
   "id": "df387bf0-e1cb-4bf5-9cc0-edbf0ed59ad6",
   "metadata": {},
   "source": [
    "# Nu går vi igang.\n",
    "\n",
    "Sidste gang  udførte vi manuelle beregninger af et output fra en neuron.\n",
    "\n",
    "    \n",
    "Det var noget med :  X1 * W1 + X2 * W2 * X3 * W*3   (også kendt som skalarproduktet eller dot-produktet)\n",
    "\n",
    "Afprøves herunder\n"
   ]
  },
  {
   "cell_type": "code",
   "execution_count": 9,
   "id": "51a02ee5-554e-4cef-bc28-82190ecc4a14",
   "metadata": {},
   "outputs": [
    {
     "name": "stdout",
     "output_type": "stream",
     "text": [
      "1.7000000000000002\n"
     ]
    }
   ],
   "source": [
    "#Først manuelt\n",
    "X1 = 1\n",
    "W1 =0.4\n",
    "X2= 0.7\n",
    "W2= 1\n",
    "X3 = 0.6\n",
    "W3 = 1\n",
    "dotprod =  X1*W1 + X2*W2 + X3*W3\n",
    "print(dotprod)"
   ]
  },
  {
   "cell_type": "markdown",
   "id": "05d32087-2ecb-49af-88e2-aa0a73117028",
   "metadata": {},
   "source": [
    "# derefter som vektorer med numpy"
   ]
  },
  {
   "cell_type": "code",
   "execution_count": 42,
   "id": "7717b956-80a0-4748-98e2-992326823435",
   "metadata": {},
   "outputs": [
    {
     "name": "stdout",
     "output_type": "stream",
     "text": [
      "1.7000000000000002\n"
     ]
    }
   ],
   "source": [
    "import numpy as np\n",
    "\n",
    "X = [1,0.7,0.6]\n",
    "W = [ 0.4,1,1]\n",
    "\n",
    "dot_product = np.dot(X,W)\n",
    "\n",
    "print (dot_product)\n"
   ]
  },
  {
   "cell_type": "markdown",
   "id": "90c23dca-1515-44cc-8f02-b145d3d5047d",
   "metadata": {},
   "source": [
    "# sidste gang arbejdede vi med en \"Threshold funktion\"  \n",
    "som Gav henholdsvis 0 eller 1 afhængig af om threshold værdien var overskredet."
   ]
  },
  {
   "cell_type": "code",
   "execution_count": 43,
   "id": "fcf941f7-8743-426e-ac0f-057da4a3abc4",
   "metadata": {},
   "outputs": [
    {
     "data": {
      "text/plain": [
       "0.0"
      ]
     },
     "execution_count": 43,
     "metadata": {},
     "output_type": "execute_result"
    }
   ],
   "source": [
    "Threshold = 1.5\n",
    "\n",
    "def Threshold_func(input):\n",
    "    global Threshold\n",
    "    if (input >Threshold):\n",
    "        return 1.0\n",
    "    else:\n",
    "        return 0.0\n",
    "\n",
    "Threshold_func(0)"
   ]
  },
  {
   "cell_type": "markdown",
   "id": "549a1b0a-9526-484a-8fc2-b5d0e7271161",
   "metadata": {},
   "source": [
    "# test af threshold"
   ]
  },
  {
   "cell_type": "code",
   "execution_count": 44,
   "id": "48b9146a-fd43-47e2-b35b-8e0504ab3ad7",
   "metadata": {},
   "outputs": [
    {
     "name": "stdout",
     "output_type": "stream",
     "text": [
      "1.7000000000000002\n",
      "1.0\n"
     ]
    }
   ],
   "source": [
    "\n",
    "\n",
    "dot_product = np.dot(X,W)\n",
    "\n",
    "print (dot_product)\n",
    "\n",
    "\n",
    "print (Threshold_func(dot_product))"
   ]
  },
  {
   "cell_type": "markdown",
   "id": "6488a580-cc4a-4a08-a3fa-bf80ad1008ff",
   "metadata": {},
   "source": [
    "# Hvis jeg nu har en serie af data som skal behandles af mit neurale netværk.."
   ]
  },
  {
   "cell_type": "code",
   "execution_count": 37,
   "id": "a9f9db78-9ad0-413f-bf97-6cbfba0ad53c",
   "metadata": {},
   "outputs": [
    {
     "name": "stdout",
     "output_type": "stream",
     "text": [
      "[1.7 1.3 5.1 2.4 1.7]\n"
     ]
    }
   ],
   "source": [
    "# istedet for X = [1,0.7,0.6]\n",
    "X = [[1,0.7,0.6],\n",
    "     [1,0.1,0.8],\n",
    "     [2,2.7,1.6],\n",
    "     [1,1.7,0.3],\n",
    "     [2,0.7,0.2]\n",
    "    ]\n",
    "\n",
    "\n",
    "#man kan magisk nok bruge de samme funktioner.\n",
    "\n",
    "dot_product = np.dot(X,W)\n",
    "\n",
    "print (dot_product)\n",
    "\n",
    "\n",
    "\n"
   ]
  },
  {
   "cell_type": "markdown",
   "id": "0af26ea9-884e-4e89-a001-c40f80a0b722",
   "metadata": {},
   "source": [
    "# egne funktioner udvider også automatisk fra at køre på tal til at køre på vektorer.ikke"
   ]
  },
  {
   "cell_type": "code",
   "execution_count": 38,
   "id": "2f8ff266-8146-492f-8985-85c7da69194d",
   "metadata": {},
   "outputs": [
    {
     "name": "stdout",
     "output_type": "stream",
     "text": [
      "[1.7 1.3 5.1 2.4 1.7]\n",
      "[11.7 11.3 15.1 12.4 11.7]\n"
     ]
    }
   ],
   "source": [
    "dot_product = np.dot(X,W)\n",
    "\n",
    "print (dot_product)\n",
    "\n",
    "\n",
    "print (Threshold_func(dot_product))"
   ]
  },
  {
   "cell_type": "code",
   "execution_count": 3,
   "id": "35b7d7cf",
   "metadata": {},
   "outputs": [
    {
     "ename": "ModuleNotFoundError",
     "evalue": "No module named 'matplotlib'",
     "output_type": "error",
     "traceback": [
      "\u001b[1;31m---------------------------------------------------------------------------\u001b[0m",
      "\u001b[1;31mModuleNotFoundError\u001b[0m                       Traceback (most recent call last)",
      "Cell \u001b[1;32mIn[3], line 79\u001b[0m\n\u001b[0;32m     74\u001b[0m                 cumulative_errors\u001b[38;5;241m.\u001b[39mappend(cumulative_error)\n\u001b[0;32m     76\u001b[0m         \u001b[38;5;28;01mreturn\u001b[39;00m cumulative_errors\n\u001b[1;32m---> 79\u001b[0m \u001b[38;5;28;01mimport\u001b[39;00m \u001b[38;5;21;01mmatplotlib\u001b[39;00m\u001b[38;5;21;01m.\u001b[39;00m\u001b[38;5;21;01mpyplot\u001b[39;00m \u001b[38;5;28;01mas\u001b[39;00m \u001b[38;5;21;01mplt\u001b[39;00m\n\u001b[0;32m     81\u001b[0m input_vectors \u001b[38;5;241m=\u001b[39m np\u001b[38;5;241m.\u001b[39marray(\n\u001b[0;32m     82\u001b[0m     [\n\u001b[0;32m     83\u001b[0m         [\u001b[38;5;241m3\u001b[39m, \u001b[38;5;241m1.5\u001b[39m],\n\u001b[1;32m   (...)\u001b[0m\n\u001b[0;32m     91\u001b[0m     ]\n\u001b[0;32m     92\u001b[0m )\n\u001b[0;32m     94\u001b[0m targets \u001b[38;5;241m=\u001b[39m np\u001b[38;5;241m.\u001b[39marray([\u001b[38;5;241m0\u001b[39m, \u001b[38;5;241m1\u001b[39m, \u001b[38;5;241m0\u001b[39m, \u001b[38;5;241m1\u001b[39m, \u001b[38;5;241m0\u001b[39m, \u001b[38;5;241m1\u001b[39m, \u001b[38;5;241m1\u001b[39m, \u001b[38;5;241m0\u001b[39m])\n",
      "\u001b[1;31mModuleNotFoundError\u001b[0m: No module named 'matplotlib'"
     ]
    }
   ],
   "source": [
    "import numpy as np\n",
    "\n",
    "class NeuralNetwork:\n",
    "    def __init__(self, learning_rate):\n",
    "        self.weights = np.array([np.random.randn(), np.random.randn()])\n",
    "        self.bias = np.random.randn()\n",
    "        self.learning_rate = learning_rate\n",
    "\n",
    "    def _sigmoid(self, x):\n",
    "        return 1 / (1 + np.exp(-x))\n",
    "\n",
    "    def _sigmoid_deriv(self, x):\n",
    "        return self._sigmoid(x) * (1 - self._sigmoid(x))\n",
    "\n",
    "    def predict(self, input_vector):\n",
    "        layer_1 = np.dot(input_vector, self.weights) + self.bias\n",
    "        layer_2 = self._sigmoid(layer_1)\n",
    "        prediction = layer_2\n",
    "        return prediction\n",
    "\n",
    "    def _compute_gradients(self, input_vector, target):\n",
    "        layer_1 = np.dot(input_vector, self.weights) + self.bias\n",
    "        layer_2 = self._sigmoid(layer_1)\n",
    "        prediction = layer_2\n",
    "\n",
    "        derror_dprediction = 2 * (prediction - target)\n",
    "        dprediction_dlayer1 = self._sigmoid_deriv(layer_1)\n",
    "        dlayer1_dbias = 1\n",
    "        dlayer1_dweights = (0 * self.weights) + (1 * input_vector)\n",
    "\n",
    "        derror_dbias = (\n",
    "            derror_dprediction * dprediction_dlayer1 * dlayer1_dbias\n",
    "        )\n",
    "        derror_dweights = (\n",
    "            derror_dprediction * dprediction_dlayer1 * dlayer1_dweights\n",
    "        )\n",
    "\n",
    "        return derror_dbias, derror_dweights\n",
    "\n",
    "    def _update_parameters(self, derror_dbias, derror_dweights):\n",
    "        self.bias = self.bias - (derror_dbias * self.learning_rate)\n",
    "        self.weights = self.weights - (\n",
    "            derror_dweights * self.learning_rate\n",
    "        )\n",
    "\n",
    "    def train(self, input_vectors, targets, iterations):\n",
    "        cumulative_errors = []\n",
    "        for current_iteration in range(iterations):\n",
    "            # Pick a data instance at random\n",
    "            random_data_index = np.random.randint(len(input_vectors))\n",
    "\n",
    "            input_vector = input_vectors[random_data_index]\n",
    "            target = targets[random_data_index]\n",
    "\n",
    "            # Compute the gradients and update the weights\n",
    "            derror_dbias, derror_dweights = self._compute_gradients(\n",
    "                input_vector, target\n",
    "            )\n",
    "\n",
    "            self._update_parameters(derror_dbias, derror_dweights)\n",
    "\n",
    "            # Measure the cumulative error for all the instances\n",
    "            if current_iteration % 100 == 0:\n",
    "                cumulative_error = 0\n",
    "                # Loop through all the instances to measure the error\n",
    "                for data_instance_index in range(len(input_vectors)):\n",
    "                    data_point = input_vectors[data_instance_index]\n",
    "                    target = targets[data_instance_index]\n",
    "\n",
    "                    prediction = self.predict(data_point)\n",
    "                    error = np.square(prediction - target)\n",
    "\n",
    "                    cumulative_error = cumulative_error + error\n",
    "                cumulative_errors.append(cumulative_error)\n",
    "\n",
    "        return cumulative_errors\n",
    "\n",
    "\n",
    "import matplotlib.pyplot as plt\n",
    "\n",
    "input_vectors = np.array(\n",
    "    [\n",
    "        [3, 1.5],\n",
    "        [2, 1],\n",
    "        [4, 1.5],\n",
    "        [3, 4],\n",
    "        [3.5, 0.5],\n",
    "        [2, 0.5],\n",
    "        [5.5, 1],\n",
    "        [1, 1],\n",
    "    ]\n",
    ")\n",
    "\n",
    "targets = np.array([0, 1, 0, 1, 0, 1, 1, 0])\n",
    "\n",
    "learning_rate = 0.1\n",
    "\n",
    "neural_network = NeuralNetwork(learning_rate)\n",
    "\n",
    "training_error = neural_network.train(input_vectors, targets, 10000)\n",
    "\n",
    "print(\"plotting\")\n",
    "\n",
    "#plt.plot(training_error)\n",
    "#plt.xlabel(\"Iterations\")\n",
    "#plt.ylabel(\"Error for all training instances\")\n",
    "#plt.savefig(\"cumulative_error.png\")\n",
    "plt.scatter(input_vectors[:,0],input_vectors[:,1],(targets+1)*8)\n",
    "plt.show()\n",
    "print (input_vectors)\n",
    "#testing\n",
    "testdata= np.array([[0,0]])\n",
    "testdata = np.append(testdata,4*np.random.random(10))\n",
    "testdata.reshape(2,6)\n",
    "print (testdata)\n",
    "testdata.reshape(6,2)\n",
    "print (testdata)\n",
    "\n",
    "#plt.scatter(testdata[:,0],testdata[:,1])   #,(targets+1)*8)\n",
    "#plt.show()\n"
   ]
  }
 ],
 "metadata": {
  "kernelspec": {
   "display_name": "Python 3 (ipykernel)",
   "language": "python",
   "name": "python3"
  },
  "language_info": {
   "codemirror_mode": {
    "name": "ipython",
    "version": 3
   },
   "file_extension": ".py",
   "mimetype": "text/x-python",
   "name": "python",
   "nbconvert_exporter": "python",
   "pygments_lexer": "ipython3",
   "version": "3.11.3"
  }
 },
 "nbformat": 4,
 "nbformat_minor": 5
}
